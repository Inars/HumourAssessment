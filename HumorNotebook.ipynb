{
 "nbformat": 4,
 "nbformat_minor": 0,
 "metadata": {
  "colab": {
   "name": "Text mining and Deep Learning Project 2.ipynb",
   "provenance": [],
   "collapsed_sections": []
  },
  "kernelspec": {
   "name": "python3",
   "language": "python",
   "display_name": "Python 3"
  },
  "accelerator": "GPU",
  "pycharm": {
   "stem_cell": {
    "cell_type": "raw",
    "source": [],
    "metadata": {
     "collapsed": false
    }
   }
  }
 },
 "cells": [
  {
   "cell_type": "code",
   "metadata": {
    "id": "ei8mjuNGwwCe",
    "colab_type": "code",
    "outputId": "1942efe8-5420-4362-9e6d-0e715459f05e",
    "executionInfo": {
     "status": "ok",
     "timestamp": 1578569849950,
     "user_tz": -60,
     "elapsed": 4365,
     "user": {
      "displayName": "Elie Saad",
      "photoUrl": "https://lh3.googleusercontent.com/a-/AAuE7mBzPKgnWA_YWViAx-QOhHiQh2Zar-SzBTSL6b8g6w=s64",
      "userId": "05510275274601296540"
     }
    },
    "colab": {
     "base_uri": "https://localhost:8080/",
     "height": 390
    },
    "pycharm": {
     "is_executing": false
    }
   },
   "source": [
    "!pip install pytorch-transformers"
   ],
   "execution_count": 1,
   "outputs": [
    {
     "name": "stdout",
     "text": [
      "Collecting pytorch-transformers\n  Using cached https://files.pythonhosted.org/packages/a3/b7/d3d18008a67e0b968d1ab93ad444fc05699403fa662f634b2f2c318a508b/pytorch_transformers-1.2.0-py3-none-any.whl\nCollecting sacremoses (from pytorch-transformers)\n  Downloading https://files.pythonhosted.org/packages/a6/b4/7a41d630547a4afd58143597d5a49e07bfd4c42914d8335b2a5657efc14b/sacremoses-0.0.38.tar.gz (860kB)\nCollecting boto3 (from pytorch-transformers)\n  Using cached https://files.pythonhosted.org/packages/00/34/75b2d38f0647cfbdfd00c62c1d3e4210f6c40fb8ff66a9a644c439e849ab/boto3-1.11.1-py2.py3-none-any.whl\nCollecting requests (from pytorch-transformers)\n  Using cached https://files.pythonhosted.org/packages/51/bd/23c926cd341ea6b7dd0b2a00aba99ae0f828be89d72b2190f27c11d4b7fb/requests-2.22.0-py2.py3-none-any.whl\nCollecting torch>=1.0.0 (from pytorch-transformers)\n"
     ],
     "output_type": "stream"
    },
    {
     "name": "stderr",
     "text": [
      "  Could not find a version that satisfies the requirement torch>=1.0.0 (from pytorch-transformers) (from versions: 0.1.2, 0.1.2.post1, 0.1.2.post2)\nNo matching distribution found for torch>=1.0.0 (from pytorch-transformers)\n"
     ],
     "output_type": "stream"
    }
   ]
  },
  {
   "cell_type": "code",
   "execution_count": null,
   "outputs": [],
   "source": [
    "import pandas as pd\n",
    "import os\n",
    "import torch\n",
    "from tqdm import tqdm\n",
    "from torch.utils.data import Dataset\n",
    "from pytorch_transformers import BertTokenizer, BertConfig, BertForSequenceClassification\n",
    "%matplotlib inline"
   ],
   "metadata": {
    "collapsed": false,
    "pycharm": {
     "name": "#%%\n"
    }
   }
  },
  {
   "cell_type": "code",
   "metadata": {
    "id": "TulqGLe_ulLL",
    "colab_type": "code",
    "outputId": "bb9b899f-ce56-4122-e5c8-7cc7ef16fe94",
    "executionInfo": {
     "status": "ok",
     "timestamp": 1578569851886,
     "user_tz": -60,
     "elapsed": 1919,
     "user": {
      "displayName": "Elie Saad",
      "photoUrl": "https://lh3.googleusercontent.com/a-/AAuE7mBzPKgnWA_YWViAx-QOhHiQh2Zar-SzBTSL6b8g6w=s64",
      "userId": "05510275274601296540"
     }
    },
    "colab": {
     "base_uri": "https://localhost:8080/",
     "height": 50
    },
    "pycharm": {
     "is_executing": false
    }
   },
   "source": [
    "def rpad(array, n=70):\n",
    "    current_len = len(array)\n",
    "    if current_len > n: \n",
    "      return array[:n]\n",
    "    extra = n - current_len\n",
    "    return array + ([0] * extra)\n",
    "\n",
    "class HumourDataset(Dataset):\n",
    "    def __init__(self, split=\"train\", model_name=\"original\", length=66):\n",
    "        print(f\"Loading humour {model_name} {split} set\")\n",
    "        aplit_at = int(0.9 * len(df))\n",
    "        self.df = df[:aplit_at][[model_name,\"meanGrade\"]] if split==\"train\" else df[aplit_at:][[model_name,\"meanGrade\"]]\n",
    "\n",
    "        print(\"Tokenizing\")\n",
    "        self.data = [\n",
    "            (\n",
    "                rpad(tokenizer.encode(\"[CLS] \" + row[model_name] + \" [SEP]\"), n=length),\n",
    "                round(row[\"meanGrade\"])\n",
    "            )\n",
    "            for indx, row in self.df.iterrows()\n",
    "        ]\n",
    "\n",
    "    def __len__(self):\n",
    "        return len(self.data)\n",
    "\n",
    "    def __getitem__(self, index):\n",
    "        X, y = self.data[index]\n",
    "        X = torch.tensor(X)\n",
    "        return X, y\n",
    "\n",
    "def train_one_epoch(model, lossfn, optimizer, dataset, batch_size=32):\n",
    "    print(\"training...\")\n",
    "    generator = torch.utils.data.DataLoader(\n",
    "        dataset, batch_size=batch_size, shuffle=False\n",
    "    )\n",
    "    model.train()\n",
    "    train_loss, train_acc = 0.0, 0.0\n",
    "    for batch, labels in tqdm(generator):\n",
    "        batch, labels = batch.to(device), labels.to(device)\n",
    "        optimizer.zero_grad()\n",
    "        loss, logits = model(batch, labels=labels)\n",
    "        err = lossfn(logits, labels)\n",
    "        loss.backward()\n",
    "        optimizer.step()\n",
    "\n",
    "        train_loss += loss.item()\n",
    "        pred_labels = torch.argmax(logits, axis=1)\n",
    "        train_acc += (pred_labels == labels).sum().item()\n",
    "    train_loss /= len(dataset)\n",
    "    train_acc /= len(dataset)\n",
    "    print(\"Done.\")\n",
    "    return train_loss, train_acc\n",
    "\n",
    "def evaluate_one_epoch(model, lossfn, optimizer, dataset, batch_size=32):\n",
    "    print(\"testing...\")\n",
    "    generator = torch.utils.data.DataLoader(\n",
    "        dataset, batch_size=batch_size, shuffle=True\n",
    "    )\n",
    "    model.eval()\n",
    "    loss, acc = 0.0, 0.0\n",
    "    with torch.no_grad():\n",
    "        for batch, labels in tqdm(generator):\n",
    "            batch, labels = batch.to(device), labels.to(device)\n",
    "            logits = model(batch)[0]\n",
    "            error = lossfn(logits, labels)\n",
    "            loss += error.item()\n",
    "            pred_labels = torch.argmax(logits, axis=1)\n",
    "            acc += (pred_labels == labels).sum().item()\n",
    "    loss /= len(dataset)\n",
    "    acc /= len(dataset)\n",
    "    print(\"Done.\")\n",
    "    return loss, acc\n",
    "\n",
    "def train(\n",
    "    model_name=\"original\",\n",
    "    bert=\"bert-large-uncased\",\n",
    "    epochs=30,\n",
    "    batch_size=32,\n",
    "    length=66,\n",
    "    save=True\n",
    "):\n",
    "    trainset = HumourDataset(split=\"train\", model_name=model_name, length=length)\n",
    "    testset = HumourDataset(split=\"test\", model_name=model_name, length=length)\n",
    "    \n",
    "    config = BertConfig.from_pretrained(bert)\n",
    "    config.num_labels = 4\n",
    "    model = BertForSequenceClassification.from_pretrained(bert, config=config)\n",
    "\n",
    "    model = model.to(device)\n",
    "    lossfn = torch.nn.CrossEntropyLoss()\n",
    "    optimizer = torch.optim.Adam(model.parameters(), lr=1e-5)\n",
    "\n",
    "    for epoch in range(epochs):\n",
    "        print(f\"\\nepoch={epoch+1}\")\n",
    "        train_loss, train_acc = train_one_epoch(\n",
    "            model, lossfn, optimizer, trainset, batch_size=batch_size\n",
    "        )\n",
    "        test_loss, test_acc = evaluate_one_epoch(\n",
    "            model, lossfn, optimizer, testset, batch_size=batch_size\n",
    "        )\n",
    "        print(f\"train_loss={train_loss:.4f}, test_loss={test_loss:.4f}\")\n",
    "        print(f\"train_acc={train_acc:.3f}, test_acc={test_acc:.3f}\")\n",
    "        if save:\n",
    "            torch.save(model, f\"{bert}__binary__{model_name}__e{epoch}.pickle\")\n",
    "\n",
    "    print(\"Done.\")"
   ],
   "execution_count": null,
   "outputs": []
  },
  {
   "cell_type": "code",
   "metadata": {
    "id": "6IeDBYBS4GLU",
    "colab_type": "code",
    "colab": {},
    "pycharm": {
     "is_executing": false
    }
   },
   "source": [
    "os.environ[\"CUDA_LAUNCH_BLOCKING\"] = \"1\"\n",
    "device = torch.device(\"cuda:0\" if torch.cuda.is_available() else \"cpu\")\n",
    "\n",
    "bert = \"bert-large-uncased\"\n",
    "epoch = 1\n",
    "batch_size = 29"
   ],
   "execution_count": null,
   "outputs": []
  },
  {
   "cell_type": "code",
   "metadata": {
    "id": "0kU0GeYg-UPZ",
    "colab_type": "code",
    "colab": {},
    "pycharm": {
     "is_executing": false
    }
   },
   "source": [
    "print(\"Loading the tokenizer\")\n",
    "tokenizer = BertTokenizer.from_pretrained(bert)\n",
    "\n",
    "df = pd.read_csv('sample_data/train_cleaned.csv', encoding=\"ISO-8859-1\")\n",
    "df = df.dropna(how=\"any\").reset_index(drop=True)"
   ],
   "execution_count": null,
   "outputs": []
  },
  {
   "cell_type": "code",
   "metadata": {
    "id": "gmfkmh1umec6",
    "colab_type": "code",
    "outputId": "61b92d46-83c8-44e3-f38c-5af71bd5ddfe",
    "executionInfo": {
     "status": "ok",
     "timestamp": 1578572604390,
     "user_tz": -60,
     "elapsed": 2732212,
     "user": {
      "displayName": "Elie Saad",
      "photoUrl": "https://lh3.googleusercontent.com/a-/AAuE7mBzPKgnWA_YWViAx-QOhHiQh2Zar-SzBTSL6b8g6w=s64",
      "userId": "05510275274601296540"
     }
    },
    "colab": {
     "base_uri": "https://localhost:8080/",
     "height": 843
    },
    "pycharm": {
     "is_executing": false
    }
   },
   "source": [
    "train(bert=bert,model_name=\"original\",epochs=epoch,length=66,batch_size=batch_size)\n",
    "train(bert=bert,model_name=\"edit\",epochs=epoch,length=10,batch_size=batch_size)\n",
    "train(bert=bert,model_name=\"edited\",epochs=epoch,length=66,batch_size=batch_size)"
   ],
   "execution_count": null,
   "outputs": []
  },
  {
   "cell_type": "code",
   "execution_count": null,
   "outputs": [],
   "source": [
    "print(\"Loading the \\\"original\\\" model\")\n",
    "original_model = torch.load(f\"models/{bert}__binary__original__e{epoch}.pickle\")\n",
    "original_model.eval()\n",
    "original_model.to(device)\n",
    "\n",
    "print(\"Loading the \\\"edit\\\" model\")\n",
    "edit_model = torch.load(f\"models/{bert}__binary__edit__e{epoch}.pickle\")\n",
    "edit_model.eval()\n",
    "edit_model.to(device)\n",
    "\n",
    "print(\"Loading the \\\"edited\\\" model\")\n",
    "edited_model = torch.load(f\"models/{bert}__binary__edited__e{epoch}.pickle\")\n",
    "edited_model.eval()\n",
    "edited_model.to(device)"
   ],
   "metadata": {
    "collapsed": false,
    "pycharm": {
     "name": "#%%\n"
    }
   }
  }
 ]
}